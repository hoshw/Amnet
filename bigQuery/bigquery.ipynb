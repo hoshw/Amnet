{
 "cells": [
  {
   "cell_type": "code",
   "execution_count": 2,
   "metadata": {
    "collapsed": true
   },
   "outputs": [],
   "source": [
    "import argparse\n",
    "import json\n",
    "import time\n",
    "import uuid\n",
    "from googleapiclient import discovery\n",
    "from oauth2client.client import GoogleCredentials\n"
   ]
  },
  {
   "cell_type": "code",
   "execution_count": 1,
   "metadata": {
    "collapsed": true
   },
   "outputs": [],
   "source": [
    "###### this is mostly the code google provides to load data into BQ but I've modified it slightly for DCM logs see \"þ\"\n",
    "def load_table(bigquery, project_id, dataset_id, table_name, source_schema,\n",
    "               source_path, num_retries=5):\n",
    "    \"\"\"\n",
    "    Starts a job to load a bigquery table from CSV\n",
    "\n",
    "    Args:\n",
    "        bigquery: an initialized and authorized bigquery client\n",
    "        google-api-client object\n",
    "        source_schema: a valid bigquery schema,\n",
    "        see https://cloud.google.com/bigquery/docs/reference/v2/tables\n",
    "        source_csv: the fully qualified Google Cloud Storage location of\n",
    "        the data to load into your table\n",
    "\n",
    "    Returns: a bigquery load job, see\n",
    "    https://cloud.google.com/bigquery/docs/reference/v2/jobs#configuration.load\n",
    "    \"\"\"\n",
    "\n",
    "    # Generate a unique job_id so retries\n",
    "    # don't accidentally duplicate query\n",
    "    job_data = {\n",
    "        'jobReference': {\n",
    "            'projectId': project_id,\n",
    "            'job_id': str(uuid.uuid4())\n",
    "        },\n",
    "        'configuration': {\n",
    "            'load': {\n",
    "                'sourceUris': [source_path],\n",
    "                \"sourceFormat\": \"CSV\",\n",
    "                \"fieldDelimiter\": \"þ\",\n",
    "                \"skipLeadingRows\": 1,\n",
    "                'schema': {\n",
    "                    'fields': source_schema\n",
    "                },\n",
    "                'destinationTable': {\n",
    "                    'projectId': project_id,\n",
    "                    'datasetId': dataset_id,\n",
    "                    'tableId': table_name\n",
    "                }\n",
    "            }\n",
    "        }\n",
    "    }\n",
    "\n",
    "    return bigquery.jobs().insert(\n",
    "        projectId=project_id,\n",
    "        body=job_data).execute(num_retries=num_retries)\n"
   ]
  },
  {
   "cell_type": "code",
   "execution_count": 3,
   "metadata": {
    "collapsed": true
   },
   "outputs": [],
   "source": [
    "def main(project_id, dataset_id, table_name, schema_file, data_path, num_retries):\n",
    "    # [START build_service]\n",
    "    # Grab the application's default credentials from the environment.\n",
    "    credentials = GoogleCredentials.get_application_default()\n",
    "\n",
    "    # Construct the service object for interacting with the BigQuery API.\n",
    "    bigquery = discovery.build('bigquery', 'v2', credentials=credentials)\n",
    "    # [END build_service]\n",
    "\n",
    "    with open(schema_file, 'r') as f:\n",
    "       schema = json.load(f)\n",
    "\n",
    "    job = load_table(\n",
    "        bigquery,\n",
    "        project_id,\n",
    "        dataset_id,\n",
    "        table_name,\n",
    "        schema,\n",
    "        data_path,\n",
    "        num_retries)\n"
   ]
  },
  {
   "cell_type": "code",
   "execution_count": null,
   "metadata": {
    "collapsed": true
   },
   "outputs": [],
   "source": [
    "### test the function\n",
    "#main(project_id=\"discover-1110\", dataset_id=\"DiscoverMediaData\", table_name=\"imps\", schema_file=schemalocal, data_path=\"gs://dfa_-54fe4bd7f3ec8d6b8e31f6f2a18f9fa261ccae56/NetworkImpression_7285_06-15-2015.log.gz\",poll_interval=1000, num_retries=5)\n"
   ]
  },
  {
   "cell_type": "code",
   "execution_count": null,
   "metadata": {
    "collapsed": true
   },
   "outputs": [],
   "source": [
    "### set the locations of the  schemas impressions and actions each need their own schemas\n",
    "\n",
    "schemalocal=\"impSchema.json\"\n",
    "schemalocalaction=\"actionSchema.json\""
   ]
  },
  {
   "cell_type": "code",
   "execution_count": null,
   "metadata": {
    "collapsed": true
   },
   "outputs": [],
   "source": [
    "#my list of dcm impression logs  in the future I plan on making a function that generates the names for us. \n",
    "\n",
    "files = [\n",
    "\"gs://dfa_-54fe4bd7f3ec8d6b8e31f6f2a18f9fa261ccae56/NetworkImpression_7285_06-16-2015.log.gz\",\n",
    "\"gs://dfa_-54fe4bd7f3ec8d6b8e31f6f2a18f9fa261ccae56/NetworkImpression_7285_06-17-2015.log.gz\",\n",
    "\"gs://dfa_-54fe4bd7f3ec8d6b8e31f6f2a18f9fa261ccae56/NetworkImpression_7285_06-18-2015.log.gz\",\n",
    "\"gs://dfa_-54fe4bd7f3ec8d6b8e31f6f2a18f9fa261ccae56/NetworkImpression_7285_06-19-2015.log.gz\",\n",
    "\"gs://dfa_-54fe4bd7f3ec8d6b8e31f6f2a18f9fa261ccae56/NetworkImpression_7285_06-20-2015.log.gz\",\n",
    "\"gs://dfa_-54fe4bd7f3ec8d6b8e31f6f2a18f9fa261ccae56/NetworkImpression_7285_06-21-2015.log.gz\",\n",
    "\"gs://dfa_-54fe4bd7f3ec8d6b8e31f6f2a18f9fa261ccae56/NetworkImpression_7285_06-22-2015.log.gz\",\n",
    "\"gs://dfa_-54fe4bd7f3ec8d6b8e31f6f2a18f9fa261ccae56/NetworkImpression_7285_06-23-2015.log.gz\",\n",
    "\"gs://dfa_-54fe4bd7f3ec8d6b8e31f6f2a18f9fa261ccae56/NetworkImpression_7285_06-24-2015.log.gz\",\n",
    "\"gs://dfa_-54fe4bd7f3ec8d6b8e31f6f2a18f9fa261ccae56/NetworkImpression_7285_06-25-2015.log.gz\",\n",
    "\"gs://dfa_-54fe4bd7f3ec8d6b8e31f6f2a18f9fa261ccae56/NetworkImpression_7285_06-26-2015.log.gz\",\n",
    "\"gs://dfa_-54fe4bd7f3ec8d6b8e31f6f2a18f9fa261ccae56/NetworkImpression_7285_06-27-2015.log.gz\",\n",
    "\"gs://dfa_-54fe4bd7f3ec8d6b8e31f6f2a18f9fa261ccae56/NetworkImpression_7285_06-28-2015.log.gz\",\n",
    "\"gs://dfa_-54fe4bd7f3ec8d6b8e31f6f2a18f9fa261ccae56/NetworkImpression_7285_06-29-2015.log.gz\",\n",
    "\"gs://dfa_-54fe4bd7f3ec8d6b8e31f6f2a18f9fa261ccae56/NetworkImpression_7285_06-30-2015.log.gz\",\n",
    "\"gs://dfa_-54fe4bd7f3ec8d6b8e31f6f2a18f9fa261ccae56/NetworkImpression_7285_07-01-2015.log.gz\",\n",
    "\"gs://dfa_-54fe4bd7f3ec8d6b8e31f6f2a18f9fa261ccae56/NetworkImpression_7285_07-02-2015.log.gz\",\n",
    "\"gs://dfa_-54fe4bd7f3ec8d6b8e31f6f2a18f9fa261ccae56/NetworkImpression_7285_07-03-2015.log.gz\",\n",
    "\"gs://dfa_-54fe4bd7f3ec8d6b8e31f6f2a18f9fa261ccae56/NetworkImpression_7285_07-04-2015.log.gz\",\n",
    "\"gs://dfa_-54fe4bd7f3ec8d6b8e31f6f2a18f9fa261ccae56/NetworkImpression_7285_07-05-2015.log.gz\",\n",
    "\"gs://dfa_-54fe4bd7f3ec8d6b8e31f6f2a18f9fa261ccae56/NetworkImpression_7285_07-06-2015.log.gz\",\n",
    "\"gs://dfa_-54fe4bd7f3ec8d6b8e31f6f2a18f9fa261ccae56/NetworkImpression_7285_07-07-2015.log.gz\",\n",
    "\"gs://dfa_-54fe4bd7f3ec8d6b8e31f6f2a18f9fa261ccae56/NetworkImpression_7285_07-08-2015.log.gz\",\n",
    "\"gs://dfa_-54fe4bd7f3ec8d6b8e31f6f2a18f9fa261ccae56/NetworkImpression_7285_07-09-2015.log.gz\",\n",
    "\"gs://dfa_-54fe4bd7f3ec8d6b8e31f6f2a18f9fa261ccae56/NetworkImpression_7285_07-10-2015.log.gz\",\n",
    "\"gs://dfa_-54fe4bd7f3ec8d6b8e31f6f2a18f9fa261ccae56/NetworkImpression_7285_07-11-2015.log.gz\",\n",
    "\"gs://dfa_-54fe4bd7f3ec8d6b8e31f6f2a18f9fa261ccae56/NetworkImpression_7285_07-12-2015.log.gz\",\n",
    "\"gs://dfa_-54fe4bd7f3ec8d6b8e31f6f2a18f9fa261ccae56/NetworkImpression_7285_07-13-2015.log.gz\",\n",
    "\"gs://dfa_-54fe4bd7f3ec8d6b8e31f6f2a18f9fa261ccae56/NetworkImpression_7285_07-14-2015.log.gz\",\n",
    "\"gs://dfa_-54fe4bd7f3ec8d6b8e31f6f2a18f9fa261ccae56/NetworkImpression_7285_07-15-2015.log.gz\",\n",
    "\"gs://dfa_-54fe4bd7f3ec8d6b8e31f6f2a18f9fa261ccae56/NetworkImpression_7285_07-16-2015.log.gz\",\n",
    "\"gs://dfa_-54fe4bd7f3ec8d6b8e31f6f2a18f9fa261ccae56/NetworkImpression_7285_07-17-2015.log.gz\",\n",
    "\"gs://dfa_-54fe4bd7f3ec8d6b8e31f6f2a18f9fa261ccae56/NetworkImpression_7285_07-18-2015.log.gz\",\n",
    "\"gs://dfa_-54fe4bd7f3ec8d6b8e31f6f2a18f9fa261ccae56/NetworkImpression_7285_07-19-2015.log.gz\",\n",
    "\"gs://dfa_-54fe4bd7f3ec8d6b8e31f6f2a18f9fa261ccae56/NetworkImpression_7285_07-20-2015.log.gz\",\n",
    "\"gs://dfa_-54fe4bd7f3ec8d6b8e31f6f2a18f9fa261ccae56/NetworkImpression_7285_07-21-2015.log.gz\",\n",
    "\"gs://dfa_-54fe4bd7f3ec8d6b8e31f6f2a18f9fa261ccae56/NetworkImpression_7285_07-22-2015.log.gz\",\n",
    "\"gs://dfa_-54fe4bd7f3ec8d6b8e31f6f2a18f9fa261ccae56/NetworkImpression_7285_07-23-2015.log.gz\",\n",
    "\"gs://dfa_-54fe4bd7f3ec8d6b8e31f6f2a18f9fa261ccae56/NetworkImpression_7285_07-24-2015.log.gz\",\n",
    "\"gs://dfa_-54fe4bd7f3ec8d6b8e31f6f2a18f9fa261ccae56/NetworkImpression_7285_07-25-2015.log.gz\",\n",
    "\"gs://dfa_-54fe4bd7f3ec8d6b8e31f6f2a18f9fa261ccae56/NetworkImpression_7285_07-26-2015.log.gz\",\n",
    "\"gs://dfa_-54fe4bd7f3ec8d6b8e31f6f2a18f9fa261ccae56/NetworkImpression_7285_07-27-2015.log.gz\",\n",
    "\"gs://dfa_-54fe4bd7f3ec8d6b8e31f6f2a18f9fa261ccae56/NetworkImpression_7285_07-28-2015.log.gz\",\n",
    "\"gs://dfa_-54fe4bd7f3ec8d6b8e31f6f2a18f9fa261ccae56/NetworkImpression_7285_07-29-2015.log.gz\",\n",
    "\"gs://dfa_-54fe4bd7f3ec8d6b8e31f6f2a18f9fa261ccae56/NetworkImpression_7285_07-30-2015.log.gz\",\n",
    "\"gs://dfa_-54fe4bd7f3ec8d6b8e31f6f2a18f9fa261ccae56/NetworkImpression_7285_07-31-2015.log.gz\",\n",
    "\"gs://dfa_-54fe4bd7f3ec8d6b8e31f6f2a18f9fa261ccae56/NetworkImpression_7285_08-01-2015.log.gz\",\n",
    "\"gs://dfa_-54fe4bd7f3ec8d6b8e31f6f2a18f9fa261ccae56/NetworkImpression_7285_08-02-2015.log.gz\",\n",
    "\"gs://dfa_-54fe4bd7f3ec8d6b8e31f6f2a18f9fa261ccae56/NetworkImpression_7285_08-03-2015.log.gz\",\n",
    "\"gs://dfa_-54fe4bd7f3ec8d6b8e31f6f2a18f9fa261ccae56/NetworkImpression_7285_08-04-2015.log.gz\",\n",
    "\"gs://dfa_-54fe4bd7f3ec8d6b8e31f6f2a18f9fa261ccae56/NetworkImpression_7285_08-05-2015.log.gz\",\n",
    "\"gs://dfa_-54fe4bd7f3ec8d6b8e31f6f2a18f9fa261ccae56/NetworkImpression_7285_08-06-2015.log.gz\",\n",
    "\"gs://dfa_-54fe4bd7f3ec8d6b8e31f6f2a18f9fa261ccae56/NetworkImpression_7285_08-07-2015.log.gz\",\n",
    "\"gs://dfa_-54fe4bd7f3ec8d6b8e31f6f2a18f9fa261ccae56/NetworkImpression_7285_08-08-2015.log.gz\",\n",
    "\"gs://dfa_-54fe4bd7f3ec8d6b8e31f6f2a18f9fa261ccae56/NetworkImpression_7285_08-09-2015.log.gz\"\n",
    "]\n"
   ]
  },
  {
   "cell_type": "code",
   "execution_count": null,
   "metadata": {
    "collapsed": true
   },
   "outputs": [],
   "source": [
    "### loop through the locations of imp logs and send them to BQ\n",
    "\n",
    "for x in files:\n",
    "    main(project_id=\"discover-1110\", dataset_id=\"DiscoverMediaData\", table_name=\"imps\", schema_file=schemalocal, data_path=x,poll_interval=1000, num_retries=5)"
   ]
  },
  {
   "cell_type": "code",
   "execution_count": null,
   "metadata": {
    "collapsed": true
   },
   "outputs": [],
   "source": [
    "#my list of dcm action logs  in the future I plan on making a function that generates the names for us. \n",
    "\n",
    "\n",
    "actions = [\n",
    "\"gs://dfa_-54fe4bd7f3ec8d6b8e31f6f2a18f9fa261ccae56/NetworkActivity_7285_3853263_06-01-2015.log.gz\",\n",
    "\"gs://dfa_-54fe4bd7f3ec8d6b8e31f6f2a18f9fa261ccae56/NetworkActivity_7285_3853263_06-02-2015.log.gz\",\n",
    "\"gs://dfa_-54fe4bd7f3ec8d6b8e31f6f2a18f9fa261ccae56/NetworkActivity_7285_3853263_06-03-2015.log.gz\",\n",
    "\"gs://dfa_-54fe4bd7f3ec8d6b8e31f6f2a18f9fa261ccae56/NetworkActivity_7285_3853263_06-04-2015.log.gz\",\n",
    "\"gs://dfa_-54fe4bd7f3ec8d6b8e31f6f2a18f9fa261ccae56/NetworkActivity_7285_3853263_06-05-2015.log.gz\",\n",
    "\"gs://dfa_-54fe4bd7f3ec8d6b8e31f6f2a18f9fa261ccae56/NetworkActivity_7285_3853263_06-06-2015.log.gz\",\n",
    "\"gs://dfa_-54fe4bd7f3ec8d6b8e31f6f2a18f9fa261ccae56/NetworkActivity_7285_3853263_06-07-2015.log.gz\",\n",
    "\"gs://dfa_-54fe4bd7f3ec8d6b8e31f6f2a18f9fa261ccae56/NetworkActivity_7285_3853263_06-08-2015.log.gz\",\n",
    "\"gs://dfa_-54fe4bd7f3ec8d6b8e31f6f2a18f9fa261ccae56/NetworkActivity_7285_3853263_06-09-2015.log.gz\",\n",
    "\"gs://dfa_-54fe4bd7f3ec8d6b8e31f6f2a18f9fa261ccae56/NetworkActivity_7285_3853263_06-10-2015.log.gz\",\n",
    "\"gs://dfa_-54fe4bd7f3ec8d6b8e31f6f2a18f9fa261ccae56/NetworkActivity_7285_3853263_06-11-2015.log.gz\",\n",
    "\"gs://dfa_-54fe4bd7f3ec8d6b8e31f6f2a18f9fa261ccae56/NetworkActivity_7285_3853263_06-12-2015.log.gz\",\n",
    "\"gs://dfa_-54fe4bd7f3ec8d6b8e31f6f2a18f9fa261ccae56/NetworkActivity_7285_3853263_06-13-2015.log.gz\",\n",
    "\"gs://dfa_-54fe4bd7f3ec8d6b8e31f6f2a18f9fa261ccae56/NetworkActivity_7285_3853263_06-14-2015.log.gz\",\n",
    "\"gs://dfa_-54fe4bd7f3ec8d6b8e31f6f2a18f9fa261ccae56/NetworkActivity_7285_3853263_06-15-2015.log.gz\",\n",
    "\"gs://dfa_-54fe4bd7f3ec8d6b8e31f6f2a18f9fa261ccae56/NetworkActivity_7285_3853263_06-16-2015.log.gz\",\n",
    "\"gs://dfa_-54fe4bd7f3ec8d6b8e31f6f2a18f9fa261ccae56/NetworkActivity_7285_3853263_06-17-2015.log.gz\",\n",
    "\"gs://dfa_-54fe4bd7f3ec8d6b8e31f6f2a18f9fa261ccae56/NetworkActivity_7285_3853263_06-18-2015.log.gz\",\n",
    "\"gs://dfa_-54fe4bd7f3ec8d6b8e31f6f2a18f9fa261ccae56/NetworkActivity_7285_3853263_06-19-2015.log.gz\",\n",
    "\"gs://dfa_-54fe4bd7f3ec8d6b8e31f6f2a18f9fa261ccae56/NetworkActivity_7285_3853263_06-20-2015.log.gz\",\n",
    "\"gs://dfa_-54fe4bd7f3ec8d6b8e31f6f2a18f9fa261ccae56/NetworkActivity_7285_3853263_06-21-2015.log.gz\",\n",
    "\"gs://dfa_-54fe4bd7f3ec8d6b8e31f6f2a18f9fa261ccae56/NetworkActivity_7285_3853263_06-22-2015.log.gz\",\n",
    "\"gs://dfa_-54fe4bd7f3ec8d6b8e31f6f2a18f9fa261ccae56/NetworkActivity_7285_3853263_06-23-2015.log.gz\",\n",
    "\"gs://dfa_-54fe4bd7f3ec8d6b8e31f6f2a18f9fa261ccae56/NetworkActivity_7285_3853263_06-24-2015.log.gz\",\n",
    "\"gs://dfa_-54fe4bd7f3ec8d6b8e31f6f2a18f9fa261ccae56/NetworkActivity_7285_3853263_06-25-2015.log.gz\",\n",
    "\"gs://dfa_-54fe4bd7f3ec8d6b8e31f6f2a18f9fa261ccae56/NetworkActivity_7285_3853263_06-26-2015.log.gz\",\n",
    "\"gs://dfa_-54fe4bd7f3ec8d6b8e31f6f2a18f9fa261ccae56/NetworkActivity_7285_3853263_06-27-2015.log.gz\",\n",
    "\"gs://dfa_-54fe4bd7f3ec8d6b8e31f6f2a18f9fa261ccae56/NetworkActivity_7285_3853263_06-28-2015.log.gz\",\n",
    "\"gs://dfa_-54fe4bd7f3ec8d6b8e31f6f2a18f9fa261ccae56/NetworkActivity_7285_3853263_06-29-2015.log.gz\",\n",
    "\"gs://dfa_-54fe4bd7f3ec8d6b8e31f6f2a18f9fa261ccae56/NetworkActivity_7285_3853263_06-30-2015.log.gz\",\n",
    "\"gs://dfa_-54fe4bd7f3ec8d6b8e31f6f2a18f9fa261ccae56/NetworkActivity_7285_3853263_07-01-2015.log.gz\",\n",
    "\"gs://dfa_-54fe4bd7f3ec8d6b8e31f6f2a18f9fa261ccae56/NetworkActivity_7285_3853263_07-02-2015.log.gz\",\n",
    "\"gs://dfa_-54fe4bd7f3ec8d6b8e31f6f2a18f9fa261ccae56/NetworkActivity_7285_3853263_07-03-2015.log.gz\",\n",
    "\"gs://dfa_-54fe4bd7f3ec8d6b8e31f6f2a18f9fa261ccae56/NetworkActivity_7285_3853263_07-04-2015.log.gz\",\n",
    "\"gs://dfa_-54fe4bd7f3ec8d6b8e31f6f2a18f9fa261ccae56/NetworkActivity_7285_3853263_07-05-2015.log.gz\",\n",
    "\"gs://dfa_-54fe4bd7f3ec8d6b8e31f6f2a18f9fa261ccae56/NetworkActivity_7285_3853263_07-06-2015.log.gz\",\n",
    "\"gs://dfa_-54fe4bd7f3ec8d6b8e31f6f2a18f9fa261ccae56/NetworkActivity_7285_3853263_07-07-2015.log.gz\",\n",
    "\"gs://dfa_-54fe4bd7f3ec8d6b8e31f6f2a18f9fa261ccae56/NetworkActivity_7285_3853263_07-08-2015.log.gz\",\n",
    "\"gs://dfa_-54fe4bd7f3ec8d6b8e31f6f2a18f9fa261ccae56/NetworkActivity_7285_3853263_07-09-2015.log.gz\",\n",
    "\"gs://dfa_-54fe4bd7f3ec8d6b8e31f6f2a18f9fa261ccae56/NetworkActivity_7285_3853263_07-10-2015.log.gz\",\n",
    "\"gs://dfa_-54fe4bd7f3ec8d6b8e31f6f2a18f9fa261ccae56/NetworkActivity_7285_3853263_07-11-2015.log.gz\",\n",
    "\"gs://dfa_-54fe4bd7f3ec8d6b8e31f6f2a18f9fa261ccae56/NetworkActivity_7285_3853263_07-12-2015.log.gz\",\n",
    "\"gs://dfa_-54fe4bd7f3ec8d6b8e31f6f2a18f9fa261ccae56/NetworkActivity_7285_3853263_07-13-2015.log.gz\",\n",
    "\"gs://dfa_-54fe4bd7f3ec8d6b8e31f6f2a18f9fa261ccae56/NetworkActivity_7285_3853263_07-14-2015.log.gz\",\n",
    "\"gs://dfa_-54fe4bd7f3ec8d6b8e31f6f2a18f9fa261ccae56/NetworkActivity_7285_3853263_07-15-2015.log.gz\",\n",
    "\"gs://dfa_-54fe4bd7f3ec8d6b8e31f6f2a18f9fa261ccae56/NetworkActivity_7285_3853263_07-16-2015.log.gz\",\n",
    "\"gs://dfa_-54fe4bd7f3ec8d6b8e31f6f2a18f9fa261ccae56/NetworkActivity_7285_3853263_07-17-2015.log.gz\",\n",
    "\"gs://dfa_-54fe4bd7f3ec8d6b8e31f6f2a18f9fa261ccae56/NetworkActivity_7285_3853263_07-18-2015.log.gz\",\n",
    "\"gs://dfa_-54fe4bd7f3ec8d6b8e31f6f2a18f9fa261ccae56/NetworkActivity_7285_3853263_07-19-2015.log.gz\",\n",
    "\"gs://dfa_-54fe4bd7f3ec8d6b8e31f6f2a18f9fa261ccae56/NetworkActivity_7285_3853263_07-20-2015.log.gz\",\n",
    "\"gs://dfa_-54fe4bd7f3ec8d6b8e31f6f2a18f9fa261ccae56/NetworkActivity_7285_3853263_07-21-2015.log.gz\",\n",
    "\"gs://dfa_-54fe4bd7f3ec8d6b8e31f6f2a18f9fa261ccae56/NetworkActivity_7285_3853263_07-22-2015.log.gz\",\n",
    "\"gs://dfa_-54fe4bd7f3ec8d6b8e31f6f2a18f9fa261ccae56/NetworkActivity_7285_3853263_07-23-2015.log.gz\",\n",
    "\"gs://dfa_-54fe4bd7f3ec8d6b8e31f6f2a18f9fa261ccae56/NetworkActivity_7285_3853263_07-24-2015.log.gz\",\n",
    "\"gs://dfa_-54fe4bd7f3ec8d6b8e31f6f2a18f9fa261ccae56/NetworkActivity_7285_3853263_07-25-2015.log.gz\",\n",
    "\"gs://dfa_-54fe4bd7f3ec8d6b8e31f6f2a18f9fa261ccae56/NetworkActivity_7285_3853263_07-26-2015.log.gz\",\n",
    "\"gs://dfa_-54fe4bd7f3ec8d6b8e31f6f2a18f9fa261ccae56/NetworkActivity_7285_3853263_07-27-2015.log.gz\",\n",
    "\"gs://dfa_-54fe4bd7f3ec8d6b8e31f6f2a18f9fa261ccae56/NetworkActivity_7285_3853263_07-28-2015.log.gz\",\n",
    "\"gs://dfa_-54fe4bd7f3ec8d6b8e31f6f2a18f9fa261ccae56/NetworkActivity_7285_3853263_07-29-2015.log.gz\",\n",
    "\"gs://dfa_-54fe4bd7f3ec8d6b8e31f6f2a18f9fa261ccae56/NetworkActivity_7285_3853263_07-30-2015.log.gz\",\n",
    "\"gs://dfa_-54fe4bd7f3ec8d6b8e31f6f2a18f9fa261ccae56/NetworkActivity_7285_3853263_07-31-2015.log.gz\",\n",
    "\"gs://dfa_-54fe4bd7f3ec8d6b8e31f6f2a18f9fa261ccae56/NetworkActivity_7285_3853263_08-01-2015.log.gz\",\n",
    "\"gs://dfa_-54fe4bd7f3ec8d6b8e31f6f2a18f9fa261ccae56/NetworkActivity_7285_3853263_08-02-2015.log.gz\",\n",
    "\"gs://dfa_-54fe4bd7f3ec8d6b8e31f6f2a18f9fa261ccae56/NetworkActivity_7285_3853263_08-03-2015.log.gz\",\n",
    "\"gs://dfa_-54fe4bd7f3ec8d6b8e31f6f2a18f9fa261ccae56/NetworkActivity_7285_3853263_08-04-2015.log.gz\",\n",
    "\"gs://dfa_-54fe4bd7f3ec8d6b8e31f6f2a18f9fa261ccae56/NetworkActivity_7285_3853263_08-05-2015.log.gz\",\n",
    "\"gs://dfa_-54fe4bd7f3ec8d6b8e31f6f2a18f9fa261ccae56/NetworkActivity_7285_3853263_08-06-2015.log.gz\",\n",
    "\"gs://dfa_-54fe4bd7f3ec8d6b8e31f6f2a18f9fa261ccae56/NetworkActivity_7285_3853263_08-07-2015.log.gz\",\n",
    "\"gs://dfa_-54fe4bd7f3ec8d6b8e31f6f2a18f9fa261ccae56/NetworkActivity_7285_3853263_08-08-2015.log.gz\",\n",
    "\"gs://dfa_-54fe4bd7f3ec8d6b8e31f6f2a18f9fa261ccae56/NetworkActivity_7285_3853263_08-09-2015.log.gz\"\n",
    "]\n",
    "\n"
   ]
  },
  {
   "cell_type": "code",
   "execution_count": null,
   "metadata": {
    "collapsed": true
   },
   "outputs": [],
   "source": [
    "### loop through the locations of action logs and send them to BQ\n",
    "\n",
    "for x in actions:\n",
    "    main(project_id=\"discover-1110\", dataset_id=\"DiscoverMediaData\", table_name=\"actions\", schema_file=schemalocalaction, data_path=x,poll_interval=1000, num_retries=5)"
   ]
  }
 ],
 "metadata": {
  "kernelspec": {
   "display_name": "Python 2",
   "language": "python",
   "name": "python2"
  },
  "language_info": {
   "codemirror_mode": {
    "name": "ipython",
    "version": 2
   },
   "file_extension": ".py",
   "mimetype": "text/x-python",
   "name": "python",
   "nbconvert_exporter": "python",
   "pygments_lexer": "ipython2",
   "version": "2.7.10"
  }
 },
 "nbformat": 4,
 "nbformat_minor": 0
}
